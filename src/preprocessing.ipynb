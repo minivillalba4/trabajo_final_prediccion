{
 "cells": [
  {
   "cell_type": "markdown",
   "id": "aa64f1e8",
   "metadata": {},
   "source": [
    "Codificar native countri como se propone recodificar esta variable como un booleano: `es_estadounidense` vs. `no_lo_es`"
   ]
  },
  {
   "cell_type": "code",
   "execution_count": 22,
   "id": "37d73373",
   "metadata": {},
   "outputs": [],
   "source": [
    "import pandas as pd\n",
    "import numpy as np\n",
    "import seaborn as sns\n",
    "import matplotlib.pyplot as plt\n",
    "from sklearn.model_selection import train_test_split\n",
    "from sklearn.pipeline import Pipeline\n",
    "from sklearn.preprocessing import StandardScaler, OrdinalEncoder, FunctionTransformer, OneHotEncoder\n",
    "from category_encoders import TargetEncoder\n",
    "from sklearn.base import BaseEstimator, TransformerMixin\n",
    "from sklearn.compose import ColumnTransformer\n",
    "from sklearn.ensemble import RandomForestClassifier\n",
    "import joblib\n",
    "from utils import *"
   ]
  },
  {
   "cell_type": "code",
   "execution_count": 23,
   "id": "2652dad3",
   "metadata": {},
   "outputs": [],
   "source": [
    "df=pd.read_csv(\"..\\data\\income_data.csv\")"
   ]
  },
  {
   "cell_type": "code",
   "execution_count": 24,
   "id": "6bff9a5d",
   "metadata": {},
   "outputs": [
    {
     "name": "stdout",
     "output_type": "stream",
     "text": [
      "<class 'pandas.core.frame.DataFrame'>\n",
      "RangeIndex: 48842 entries, 0 to 48841\n",
      "Data columns (total 15 columns):\n",
      " #   Column           Non-Null Count  Dtype \n",
      "---  ------           --------------  ----- \n",
      " 0   age              48842 non-null  int64 \n",
      " 1   workclass        48842 non-null  object\n",
      " 2   fnlwgt           48842 non-null  int64 \n",
      " 3   education        48842 non-null  object\n",
      " 4   educational-num  48842 non-null  int64 \n",
      " 5   marital-status   48842 non-null  object\n",
      " 6   occupation       48842 non-null  object\n",
      " 7   relationship     48842 non-null  object\n",
      " 8   race             48842 non-null  object\n",
      " 9   gender           48842 non-null  object\n",
      " 10  capital-gain     48842 non-null  int64 \n",
      " 11  capital-loss     48842 non-null  int64 \n",
      " 12  hours-per-week   48842 non-null  int64 \n",
      " 13  native-country   48842 non-null  object\n",
      " 14  income           48842 non-null  object\n",
      "dtypes: int64(6), object(9)\n",
      "memory usage: 5.6+ MB\n"
     ]
    }
   ],
   "source": [
    "df.info()"
   ]
  },
  {
   "cell_type": "code",
   "execution_count": 25,
   "id": "9dc65d08",
   "metadata": {},
   "outputs": [
    {
     "data": {
      "text/plain": [
       "Index(['age', 'workclass', 'fnlwgt', 'education', 'educational-num',\n",
       "       'marital-status', 'occupation', 'relationship', 'race', 'gender',\n",
       "       'capital-gain', 'capital-loss', 'hours-per-week', 'native-country',\n",
       "       'income'],\n",
       "      dtype='object')"
      ]
     },
     "execution_count": 25,
     "metadata": {},
     "output_type": "execute_result"
    }
   ],
   "source": [
    "df.columns"
   ]
  },
  {
   "cell_type": "code",
   "execution_count": 26,
   "id": "7f5890b2",
   "metadata": {},
   "outputs": [],
   "source": [
    "df2 = df.copy()\n",
    "df2['es_estadounidense'] = df2['native-country'] == 'United-States'\n",
    "df2.drop(columns=['native-country'], inplace=True)"
   ]
  },
  {
   "cell_type": "code",
   "execution_count": 27,
   "id": "058d07ad",
   "metadata": {},
   "outputs": [],
   "source": [
    "df2.rename(columns={'gender': 'sex'}, inplace=True)"
   ]
  },
  {
   "cell_type": "code",
   "execution_count": 28,
   "id": "b8c82c20",
   "metadata": {},
   "outputs": [],
   "source": [
    "df2['has_capital_gain'] = df2['capital-gain'] > 0\n",
    "df2['has_capital_loss'] = df2['capital-loss'] > 0\n",
    "df2.drop(columns=['capital-gain', 'capital-loss'], inplace=True)"
   ]
  },
  {
   "cell_type": "code",
   "execution_count": 29,
   "id": "a8922be7",
   "metadata": {},
   "outputs": [
    {
     "data": {
      "text/plain": [
       "array(['<=50K', '>50K'], dtype=object)"
      ]
     },
     "execution_count": 29,
     "metadata": {},
     "output_type": "execute_result"
    }
   ],
   "source": [
    "df2[\"income\"].unique()"
   ]
  },
  {
   "cell_type": "code",
   "execution_count": 30,
   "id": "475ced8d",
   "metadata": {},
   "outputs": [],
   "source": [
    "df2[\"income\"] = df2[\"income\"].map({'<=50K': 0,'>50K': 1})"
   ]
  },
  {
   "cell_type": "markdown",
   "id": "c8ec3cd7",
   "metadata": {},
   "source": [
    "Antes de realizar ninguna transformación es necesario particionar el conjunto de datos"
   ]
  },
  {
   "cell_type": "code",
   "execution_count": 31,
   "id": "ae217279",
   "metadata": {},
   "outputs": [],
   "source": [
    "# Dividir en características (X) y objetivo (y)\n",
    "X = df2.drop(columns=['income'])\n",
    "y = df2['income']"
   ]
  },
  {
   "cell_type": "code",
   "execution_count": 32,
   "id": "d7767c75",
   "metadata": {},
   "outputs": [],
   "source": [
    "# Dividir en conjuntos de entrenamiento y prueba\n",
    "X_train, X_test, y_train, y_test = train_test_split(X, y, test_size=0.2, random_state=42)"
   ]
  },
  {
   "cell_type": "code",
   "execution_count": 33,
   "id": "be1f53f1",
   "metadata": {},
   "outputs": [
    {
     "name": "stdout",
     "output_type": "stream",
     "text": [
      "Tamaño de y_train: (39073,)\n",
      "Tamaño de y_test: (9769,)\n"
     ]
    }
   ],
   "source": [
    "print(\"Tamaño de y_train:\", y_train.shape)\n",
    "print(\"Tamaño de y_test:\", y_test.shape)"
   ]
  },
  {
   "cell_type": "code",
   "execution_count": 34,
   "id": "676bdacc",
   "metadata": {},
   "outputs": [
    {
     "data": {
      "text/plain": [
       "Index(['age', 'workclass', 'fnlwgt', 'education', 'educational-num',\n",
       "       'marital-status', 'occupation', 'relationship', 'race', 'sex',\n",
       "       'hours-per-week', 'income', 'es_estadounidense', 'has_capital_gain',\n",
       "       'has_capital_loss'],\n",
       "      dtype='object')"
      ]
     },
     "execution_count": 34,
     "metadata": {},
     "output_type": "execute_result"
    }
   ],
   "source": [
    "df2.columns"
   ]
  },
  {
   "cell_type": "code",
   "execution_count": 35,
   "id": "08b55886",
   "metadata": {},
   "outputs": [
    {
     "data": {
      "text/plain": [
       "Index(['age', 'fnlwgt', 'educational-num', 'hours-per-week', 'income'], dtype='object')"
      ]
     },
     "execution_count": 35,
     "metadata": {},
     "output_type": "execute_result"
    }
   ],
   "source": [
    "df2.select_dtypes(include=[np.number]).columns"
   ]
  },
  {
   "cell_type": "code",
   "execution_count": 36,
   "id": "5caf3bfe",
   "metadata": {},
   "outputs": [
    {
     "data": {
      "text/plain": [
       "Index(['age', 'workclass', 'fnlwgt', 'education', 'educational-num',\n",
       "       'marital-status', 'occupation', 'relationship', 'race', 'sex',\n",
       "       'hours-per-week', 'income', 'es_estadounidense', 'has_capital_gain',\n",
       "       'has_capital_loss'],\n",
       "      dtype='object')"
      ]
     },
     "execution_count": 36,
     "metadata": {},
     "output_type": "execute_result"
    }
   ],
   "source": [
    "df2.columns"
   ]
  },
  {
   "cell_type": "code",
   "execution_count": 37,
   "id": "5a12ab1d",
   "metadata": {},
   "outputs": [],
   "source": [
    "# Numéricas: Winsorizar + Log + Escalar\n",
    "log_transform_columns = ['age', 'fnlwgt']\n",
    "\n",
    "# Numéricas: Solo escalar\n",
    "scale_only_columns = ['educational-num', 'hours-per-week']\n",
    "\n",
    "# Ordinales\n",
    "ordinal_columns = ['marital-status', 'sex']\n",
    "\n",
    "# Categóricas con alta cardinalidad: Target Encoding\n",
    "target_encoding_columns = ['education', 'occupation', 'relationship', 'race', 'workclass']\n",
    "\n",
    "# Categóricas con baja cardinalidad (para One-Hot)\n",
    "one_hot_columns = []  # De momento no tienes ninguna en esta categoría; deja vacío o añade si necesitas\n",
    "\n",
    "# Binarias directas (sin cambios)\n",
    "binary_columns = ['has_capital_gain', 'has_capital_loss', 'es_estadounidense']\n"
   ]
  },
  {
   "cell_type": "code",
   "execution_count": 38,
   "id": "1c0abc25",
   "metadata": {},
   "outputs": [],
   "source": [
    "preprocessor = ColumnTransformer(transformers=[\n",
    "    \n",
    "    # Ordinal Encoder\n",
    "    ('ordinal', OrdinalEncoder(\n",
    "        categories=[\n",
    "            ['Never-married', 'Separated', 'Divorced', 'Widowed', 'Married-civ-spouse'],\n",
    "            ['Female', 'Male']\n",
    "        ],\n",
    "        handle_unknown='use_encoded_value', unknown_value=-1\n",
    "    ), ordinal_columns),\n",
    "\n",
    "    # Target Encoder\n",
    "    ('target_enc', TargetEncoder(), target_encoding_columns),\n",
    "\n",
    "    # One-Hot Encoder (si necesitas en el futuro)\n",
    "    ('one_hot', OneHotEncoder(handle_unknown='ignore', sparse_output=False), one_hot_columns),\n",
    "\n",
    "    # Winsorización + Log + Escalado\n",
    "    ('winsor_log_scale', Pipeline([\n",
    "        ('winsor', Winsorizer(lower=0.01, upper=0.99)),\n",
    "        ('log1p', FunctionTransformer(np.log1p, feature_names_out='one-to-one')),\n",
    "        ('scaler', StandardScaler())\n",
    "    ]), log_transform_columns),\n",
    "\n",
    "    # Solo escalado\n",
    "    ('scaler_only', StandardScaler(), scale_only_columns),\n",
    "\n",
    "    # Variables binarias directamente como passthrough\n",
    "    ('binary', 'passthrough', binary_columns)\n",
    "])"
   ]
  },
  {
   "cell_type": "code",
   "execution_count": 39,
   "id": "cdd85fc1",
   "metadata": {},
   "outputs": [],
   "source": [
    "X_train_proc = preprocessor.fit_transform(X_train, y_train)\n",
    "X_test_proc  = preprocessor.transform(X_test)"
   ]
  },
  {
   "cell_type": "code",
   "execution_count": 40,
   "id": "adb565cf",
   "metadata": {},
   "outputs": [],
   "source": [
    "#Exportar X_train_proc y X_test_proc a preprocesing en csv\n",
    "columns = preprocessor.get_feature_names_out()\n",
    "\n",
    "# Convertir a DataFrame con nombres\n",
    "X_train_proc_df = pd.DataFrame(X_train_proc, columns=columns)\n",
    "X_test_proc_df = pd.DataFrame(X_test_proc, columns=columns)\n",
    "\n",
    "# Exportar a CSV con nombres correctos\n",
    "X_train_proc_df.to_csv(\"../preprocessing/X_train_proc.csv\", index=False)\n",
    "X_test_proc_df.to_csv(\"../preprocessing/X_test_proc.csv\", index=False)"
   ]
  },
  {
   "cell_type": "code",
   "execution_count": 41,
   "id": "1535f329",
   "metadata": {},
   "outputs": [
    {
     "data": {
      "text/plain": [
       "['../preprocessing/preprocesador.pkl']"
      ]
     },
     "execution_count": 41,
     "metadata": {},
     "output_type": "execute_result"
    }
   ],
   "source": [
    "joblib.dump(preprocessor, \"../preprocessing/preprocesador.pkl\")"
   ]
  },
  {
   "cell_type": "code",
   "execution_count": 42,
   "id": "0f37f031",
   "metadata": {},
   "outputs": [],
   "source": [
    "# Guardar los datos crudos con columnas (como CSV)\n",
    "X_train.to_csv(\"../preprocessing/X_train_raw.csv\", index=False)\n",
    "X_test.to_csv(\"../preprocessing/X_test_raw.csv\", index=False)\n",
    "\n",
    "# Guardar los targets como arrays (manteniendo el formato actual)\n",
    "y_train.to_csv(\"../preprocessing/y_train_raw.csv\", index=False)\n",
    "y_test.to_csv(\"../preprocessing/y_test_raw.csv\", index=False)"
   ]
  }
 ],
 "metadata": {
  "kernelspec": {
   "display_name": "Python 3",
   "language": "python",
   "name": "python3"
  },
  "language_info": {
   "codemirror_mode": {
    "name": "ipython",
    "version": 3
   },
   "file_extension": ".py",
   "mimetype": "text/x-python",
   "name": "python",
   "nbconvert_exporter": "python",
   "pygments_lexer": "ipython3",
   "version": "3.11.11"
  }
 },
 "nbformat": 4,
 "nbformat_minor": 5
}
